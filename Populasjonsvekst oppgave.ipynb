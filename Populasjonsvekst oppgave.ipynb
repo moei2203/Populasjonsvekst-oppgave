{
 "cells": [
  {
   "cell_type": "markdown",
   "metadata": {},
   "source": [
    "# Populasjonsvekst\n",
    "#### Eivind Molin"
   ]
  },
  {
   "cell_type": "markdown",
   "metadata": {},
   "source": [
    "## 1\n",
    "### 1)  Siden populasjonen øker med 5% hver måned, kan man definere den deriverte per måned lik populasjonen den måneden ganger 0.05"
   ]
  },
  {
   "cell_type": "markdown",
   "metadata": {},
   "source": [
    "### 2) Ved t=0, 100 kaniner"
   ]
  },
  {
   "cell_type": "markdown",
   "metadata": {},
   "source": [
    "### 3) "
   ]
  },
  {
   "cell_type": "code",
   "execution_count": 27,
   "metadata": {},
   "outputs": [
    {
     "data": {
      "text/plain": [
       "[<matplotlib.lines.Line2D at 0x1f93fc24c88>]"
      ]
     },
     "execution_count": 27,
     "metadata": {},
     "output_type": "execute_result"
    },
    {
     "data": {
      "image/png": "[encoded data removed]",
      "text/plain": [
       "<Figure size 432x288 with 1 Axes>"
      ]
     },
     "metadata": {},
     "output_type": "display_data"
    }
   ],
   "source": [
    "from pylab import *\n",
    "\n",
    "t0=0\n",
    "H0=100\n",
    "N=10000\n",
    "t=12\n",
    "dt=t/(N-1)\n",
    "k=0.05\n",
    "b=20000\n",
    "\n",
    "H=zeros(N)\n",
    "t=zeros(N)\n",
    "Hder=zeros(N)\n",
    "\n",
    "t[0]=t0\n",
    "H[0]=H0\n",
    "\n",
    "for i in range(N-1):\n",
    "    Hder[i]=k*H[i]\n",
    "    H[i+1]=H[i]+Hder[i]*dt\n",
    "    t[i+1]=t[i]+dt\n",
    "\n",
    "x=t\n",
    "y=H\n",
    "plot(x,y, 'g-')"
   ]
  },
  {
   "cell_type": "markdown",
   "metadata": {},
   "source": [
    "### 4) utviklingen er eksponentiell"
   ]
  },
  {
   "cell_type": "markdown",
   "metadata": {},
   "source": [
    "### 5) Siden antall nye kaniner hver måned er avhengig av antall kaniner, vil populasjonen være større etter x måneder jo flere kaniner ved t=0"
   ]
  },
  {
   "cell_type": "markdown",
   "metadata": {},
   "source": [
    "### 6) k betyr hvor raskt kaninene formerer seg. I følge en pdf jeg fant på internett om kaniner i australia, vil k realistisk sett være rund 0.19"
   ]
  },
  {
   "cell_type": "markdown",
   "metadata": {},
   "source": [
    "### 7) Veksten blir større, og grafen ser mer eksponentiell ut"
   ]
  },
  {
   "cell_type": "markdown",
   "metadata": {},
   "source": [
    "### 8) Grafen vil se mer eksponentiell ut, ettersom det er færre x-verdier. k beskriver veksten per måned, så man må regne seg fram til en k som beskriver vekst hvert år"
   ]
  },
  {
   "cell_type": "markdown",
   "metadata": {},
   "source": [
    "### 9) Funksjonen er eksponentiell "
   ]
  },
  {
   "cell_type": "code",
   "execution_count": null,
   "metadata": {},
   "outputs": [],
   "source": []
  },
  {
   "cell_type": "markdown",
   "metadata": {},
   "source": [
    "## 2"
   ]
  },
  {
   "cell_type": "markdown",
   "metadata": {},
   "source": [
    "### 1) B(0) vil være antall bakterier vi starter med, altså 5000"
   ]
  },
  {
   "cell_type": "markdown",
   "metadata": {},
   "source": [
    "### 2) Bæreevne er hvor mange inndivider en populasjon kan ha før veksten blir ~0. i biologien kan dette være tilgang på ressurser, rovdyr, sykdom, konkurranse."
   ]
  },
  {
   "cell_type": "markdown",
   "metadata": {},
   "source": [
    "### 3) Veksten er er proporsjonal med antall bakterier, men pga bæreevnen har man med en faktor som blir lik null når antall bakterier er lik bæreevnen"
   ]
  },
  {
   "cell_type": "markdown",
   "metadata": {},
   "source": [
    "### 1) B'(0)=k * B(0) * (1-B(0)/b), k=B'(0)/(B(0) * (1-B(0)/b))"
   ]
  },
  {
   "cell_type": "code",
   "execution_count": 28,
   "metadata": {},
   "outputs": [
    {
     "data": {
      "text/plain": [
       "0.2"
      ]
     },
     "execution_count": 28,
     "metadata": {},
     "output_type": "execute_result"
    }
   ],
   "source": [
    "900/(5000*(1-5000/50000))"
   ]
  },
  {
   "cell_type": "markdown",
   "metadata": {},
   "source": [
    "### Feil i oppgaven? "
   ]
  },
  {
   "cell_type": "markdown",
   "metadata": {},
   "source": [
    "### 2) "
   ]
  },
  {
   "cell_type": "code",
   "execution_count": 29,
   "metadata": {},
   "outputs": [
    {
     "name": "stderr",
     "output_type": "stream",
     "text": [
      "C:\\Users\\Eivind\\Anaconda3\\lib\\site-packages\\matplotlib\\cbook\\deprecation.py:107: MatplotlibDeprecationWarning: Passing one of 'on', 'true', 'off', 'false' as a boolean is deprecated; use an actual boolean (True/False) instead.\n",
      "  warnings.warn(message, mplDeprecation, stacklevel=1)\n"
     ]
    },
    {
     "data": {
      "image/png": "[encoded data removed]",
      "text/plain": [
       "<Figure size 432x288 with 1 Axes>"
      ]
     },
     "metadata": {},
     "output_type": "display_data"
    }
   ],
   "source": [
    "B0=5000\n",
    "t0=0\n",
    "tid=35\n",
    "k=0.2\n",
    "N=50000\n",
    "dt=tid/(N-1)\n",
    "t=zeros(N)\n",
    "B=zeros(N)\n",
    "Bder=zeros(N)\n",
    "b=50000\n",
    "\n",
    "t[0]=t0\n",
    "B[0]=B0\n",
    "\n",
    "for i in range(N-1):\n",
    "    Bder[i]=k*B[i]*(1-(B[i]/b))\n",
    "    t[i+1]=t[i]+dt\n",
    "    B[i+1]=B[i]+Bder[i]*dt\n",
    "\n",
    "plot(t,B,'r-')\n",
    "xlabel('tid')\n",
    "ylabel('antall bakterier')\n",
    "title('Bakteriepopulasjon')\n",
    "grid('on')"
   ]
  },
  {
   "cell_type": "markdown",
   "metadata": {},
   "source": [
    "### 3)"
   ]
  },
  {
   "cell_type": "code",
   "execution_count": 30,
   "metadata": {},
   "outputs": [
    {
     "name": "stderr",
     "output_type": "stream",
     "text": [
      "C:\\Users\\Eivind\\Anaconda3\\lib\\site-packages\\matplotlib\\cbook\\deprecation.py:107: MatplotlibDeprecationWarning: Passing one of 'on', 'true', 'off', 'false' as a boolean is deprecated; use an actual boolean (True/False) instead.\n",
      "  warnings.warn(message, mplDeprecation, stacklevel=1)\n"
     ]
    },
    {
     "name": "stdout",
     "output_type": "stream",
     "text": [
      "b_2 har annen bæreevne, b_3 har annen k, b_4 har annen bæreevne og annen k\n"
     ]
    },
    {
     "data": {
      "image/png": "[encoded data removed]",
      "text/plain": [
       "<Figure size 432x288 with 1 Axes>"
      ]
     },
     "metadata": {},
     "output_type": "display_data"
    }
   ],
   "source": [
    "k_2=0.4\n",
    "b_2=60000\n",
    "\n",
    "B_2=zeros(N)\n",
    "B_3=zeros(N)\n",
    "B_4=zeros(N)\n",
    "B_2der=zeros(N)\n",
    "B_3der=zeros(N)\n",
    "B_4der=zeros(N)\n",
    "\n",
    "B_2[0]=B0\n",
    "B_3[0]=B0\n",
    "B_4[0]=B0\n",
    "\n",
    "for i in range(N-1):\n",
    "    Bder[i]=k*B[i]*(1-(B[i]/b))\n",
    "    t[i+1]=t[i]+dt\n",
    "    B[i+1]=B[i]+Bder[i]*dt\n",
    "    B_2der[i]=k*B_2[i]*(1-(B_2[i]/b_2))\n",
    "    B_2[i+1]=B_2[i]+B_2der[i]*dt\n",
    "    B_3der[i]=k_2*B_3[i]*(1-(B_3[i]/b))\n",
    "    B_3[i+1]=B_3[i]+B_3der[i]*dt\n",
    "    B_4der[i]=k_2*B_4[i]*(1-(B_4[i]/b_2))\n",
    "    B_4[i+1]=B_4[i]+B_4der[i]*dt\n",
    "\n",
    "plot(t,B,'r-')\n",
    "plot(t,B_2,'b-')\n",
    "plot(t,B_3,'g-')\n",
    "plot(t,B_4)\n",
    "grid('on')\n",
    "print('b_2 har annen bæreevne, b_3 har annen k, b_4 har annen bæreevne og annen k')"
   ]
  },
  {
   "cell_type": "markdown",
   "metadata": {},
   "source": [
    "### k varierer hvor raskt populasjonen vokser/når bæreevnen, mens b varierer hvor stor populasjonen kan bli"
   ]
  },
  {
   "cell_type": "markdown",
   "metadata": {},
   "source": [
    "# 3"
   ]
  },
  {
   "cell_type": "markdown",
   "metadata": {},
   "source": [
    "### 1) I B'(t) betyr det første leddet hvor mye populasjonen vokser uten bæreevne/rovdyr, mens det andre betyr hvor mye mindre veksten blir i henhold til antall rovdyr. I R'(t) betyr det første leddet veksten som er avhengig av antall byttedyr, mens det andre leddet påvirker veksten negativt ved antall rovdyr. Jo flere rovdyr, desto mindre byttedyr per rovdyr. \n",
    "### a betyr reproduksjonsraten for byttedyret, b og c er en møterate mellom byttedyr og rovdyr, d er en nedgangsrate for byttedyret."
   ]
  },
  {
   "cell_type": "code",
   "execution_count": 60,
   "metadata": {},
   "outputs": [
    {
     "data": {
      "image/png": "[encoded data removed]",
      "text/plain": [
       "<Figure size 432x288 with 2 Axes>"
      ]
     },
     "metadata": {},
     "output_type": "display_data"
    }
   ],
   "source": [
    "from pylab import *\n",
    "\n",
    "a=0.25\n",
    "b=0.002\n",
    "c=0.1\n",
    "d=0.001\n",
    "\n",
    "s0=100\n",
    "ib0=100\n",
    "t0=0\n",
    "N=100000\n",
    "tid=50\n",
    "dt=tid/(N-1)\n",
    "\n",
    "s=zeros(N)\n",
    "ib=zeros(N)\n",
    "t=zeros(N)\n",
    "sder=zeros(N)\n",
    "ibder=zeros(N)\n",
    "\n",
    "s[0]=s0\n",
    "ib[0]=ib0\n",
    "t[0]=t0\n",
    "\n",
    "for i in range(N-1):\n",
    "    sder[i]=(a*s[i])-(b*s[i]*ib[i])\n",
    "    ibder[i]=(c*s[i]*ib[i])-(d*ib[i])\n",
    "    s[i+1]=(s[i])+(sder[i]*dt)\n",
    "    ib[i+1]=(ib[i])+(ibder[i]*dt)\n",
    "    t[i+1]=(t[i]+dt)\n",
    "\n",
    "fig=figure()\n",
    "ax=fig.add_subplot(1,1,1)\n",
    "data1=ax.plot(t,s,'-b', label = 'Seler')\n",
    "ax2=ax.twinx()\n",
    "data2=ax2.plot(t,ib,'-r',label = 'Isbjørner')\n",
    "\n",
    "data=data1+data2\n",
    "datatittel = [l.get_label() for l in data]\n",
    "ax.legend(data, datatittel, loc=0)\n",
    "\n",
    "ax.grid()\n",
    "ax.set_xlabel(\"Tid i måneder\")\n",
    "ax.set_ylabel(\"Antall seler\")\n",
    "ax2.set_ylabel(\"Antall isbjørner\")\n",
    "ax.set_ylim(0,500)\n",
    "ax2.set_ylim(0,200)\n",
    "plt.show()"
   ]
  },
  {
   "cell_type": "markdown",
   "metadata": {},
   "source": [
    "### Vet ikke hvorfor grafen blir seende sånn ut..."
   ]
  },
  {
   "cell_type": "code",
   "execution_count": 61,
   "metadata": {
    "scrolled": true
   },
   "outputs": [
    {
     "data": {
      "image/png": "[encoded data removed]",
      "text/plain": [
       "<Figure size 432x288 with 2 Axes>"
      ]
     },
     "metadata": {},
     "output_type": "display_data"
    }
   ],
   "source": [
    "from pylab import *\n",
    "\n",
    "a=0.25\n",
    "b=0.002\n",
    "c=0.1\n",
    "d=0.001\n",
    "evne=1000\n",
    "\n",
    "s0=100\n",
    "ib0=100\n",
    "t0=0\n",
    "N=100000\n",
    "tid=50\n",
    "dt=tid/(N-1)\n",
    "\n",
    "s=zeros(N)\n",
    "ib=zeros(N)\n",
    "t=zeros(N)\n",
    "sder=zeros(N)\n",
    "ibder=zeros(N)\n",
    "\n",
    "s[0]=s0\n",
    "ib[0]=ib0\n",
    "t[0]=t0\n",
    "\n",
    "for i in range(N-1):\n",
    "    sder[i]=a*s[i]*(1-s[i]/evne)-b*s[i]*ib[i]\n",
    "    ibder[i]=c*s[i]*ib[i]-d*ib[i]\n",
    "    s[i+1]=s[i]+sder[i]*dt\n",
    "    ib[i+1]=ib[i]+ibder[i]*dt\n",
    "    t[i+1]=t[i]+dt\n",
    "\n",
    "fig=figure()\n",
    "ax=fig.add_subplot(1,1,1)\n",
    "data1=ax.plot(t,s,'-b', label = 'Seler')\n",
    "ax2=ax.twinx()\n",
    "data2=ax2.plot(t,ib,'-r',label = 'Isbjørner')\n",
    "\n",
    "data=data1+data2\n",
    "datatittel = [l.get_label() for l in data]\n",
    "ax.legend(data, datatittel, loc=0)\n",
    "\n",
    "ax.grid()\n",
    "ax.set_xlabel(\"Tid i måneder\")\n",
    "ax.set_ylabel(\"Antall seler\")\n",
    "ax2.set_ylabel(\"Antall isbjørner\")\n",
    "ax.set_ylim(0,300)\n",
    "ax2.set_ylim(0,200)\n",
    "plt.show()"
   ]
  },
  {
   "cell_type": "markdown",
   "metadata": {},
   "source": [
    "### 3) Nok en gang, klarer ikke å finne feilen i koden. \n",
    "### Vi trenger ikke bæreevne for isbjørnen, siden antall isbjørner er avhengig av antall seler, som blir en slags bæreevne"
   ]
  },
  {
   "cell_type": "markdown",
   "metadata": {},
   "source": [
    "### Gjør ikke 4) og 5), ettersom det er en feil i koden som jeg ikke finner"
   ]
  },
  {
   "cell_type": "code",
   "execution_count": null,
   "metadata": {},
   "outputs": [],
   "source": []
  }
 ],
 "metadata": {
  "kernelspec": {
   "display_name": "Python 3",
   "language": "python",
   "name": "python3"
  },
  "language_info": {
   "codemirror_mode": {
    "name": "ipython",
    "version": 3
   },
   "file_extension": ".py",
   "mimetype": "text/x-python",
   "name": "python",
   "nbconvert_exporter": "python",
   "pygments_lexer": "ipython3",
   "version": "3.6.5"
  }
 },
 "nbformat": 4,
 "nbformat_minor": 2
}
